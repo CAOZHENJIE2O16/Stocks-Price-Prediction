{
 "cells": [
  {
   "cell_type": "code",
   "execution_count": 4,
   "metadata": {},
   "outputs": [],
   "source": [
    "import pandas as pd\n",
    "import numpy as np\n",
    "import sklearn\n",
    "from sklearn import preprocessing\n",
    "from sklearn.preprocessing import MinMaxScaler\n",
    "import statsmodels.api as sm"
   ]
  },
  {
   "cell_type": "code",
   "execution_count": 5,
   "metadata": {},
   "outputs": [
    {
     "data": {
      "text/plain": [
       "(757, 7)"
      ]
     },
     "execution_count": 5,
     "metadata": {},
     "output_type": "execute_result"
    }
   ],
   "source": [
    "df = pd.read_csv('IBM_train.csv')\n",
    "df_test = pd.read_csv('IBM_test.csv')\n",
    "df_test.shape"
   ]
  },
  {
   "cell_type": "code",
   "execution_count": 6,
   "metadata": {
    "collapsed": true
   },
   "outputs": [],
   "source": [
    "Open = df['Open']\n",
    "high = df['High'].values\n",
    "low = df['Low'].values\n",
    "volume = df['Volume'].values\n",
    "close = df['Close'].values\n",
    "\n",
    "# Training data features"
   ]
  },
  {
   "cell_type": "code",
   "execution_count": 7,
   "metadata": {
    "collapsed": true
   },
   "outputs": [],
   "source": [
    "l = 30 ## Future \n",
    "s = 200 ## Past"
   ]
  },
  {
   "cell_type": "code",
   "execution_count": 8,
   "metadata": {},
   "outputs": [
    {
     "data": {
      "text/plain": [
       "(1060,)"
      ]
     },
     "execution_count": 8,
     "metadata": {},
     "output_type": "execute_result"
    }
   ],
   "source": [
    "train_label = Open.copy()\n",
    "\n",
    "for i in range(l-1, len(Open) - l):\n",
    "    if(close[i + l] > Open[i]):\n",
    "        train_label[i] = 1\n",
    "    else: train_label[i] = -1\n",
    "train_label = train_label[l-1:-(s - l)]\n",
    "train_label.shape\n"
   ]
  },
  {
   "cell_type": "code",
   "execution_count": 9,
   "metadata": {
    "collapsed": true
   },
   "outputs": [],
   "source": [
    "vol = volume.copy()\n",
    "for i in range(1, len(vol)):\n",
    "    vol[i] = ((volume[i] - volume[i-1])/volume[i-1])*100\n",
    "vol = vol[s-1:]"
   ]
  },
  {
   "cell_type": "code",
   "execution_count": 10,
   "metadata": {},
   "outputs": [
    {
     "data": {
      "text/plain": [
       "(1060,)"
      ]
     },
     "execution_count": 10,
     "metadata": {},
     "output_type": "execute_result"
    }
   ],
   "source": [
    "\n",
    "vol.shape"
   ]
  },
  {
   "cell_type": "code",
   "execution_count": 11,
   "metadata": {
    "collapsed": true
   },
   "outputs": [],
   "source": [
    "high10 = high.copy()\n",
    "low10 = low.copy()\n",
    "Open10 = Open.copy()\n",
    "volume10 = volume.copy()\n",
    "\n",
    "r = len(high)\n",
    "for i in range(s, r+1):\n",
    "    high10[i - s] = np.mean(high[i-s:i]) \n",
    "    low10[i - s] = np.mean(low[i-s:i]) \n",
    "    Open10[i - s] = np.mean(Open[i-s:i]) \n",
    "    volume10[i - s] = np.mean(volume[i-s:i])\n",
    "    \n",
    "Open10 = Open10[:r-s+1]\n",
    "low10 = low10[:r-s+1]\n",
    "high10 = high10[:r-s+1]\n",
    "volume10 = volume10[:r-s+1]"
   ]
  },
  {
   "cell_type": "code",
   "execution_count": 12,
   "metadata": {
    "collapsed": true
   },
   "outputs": [],
   "source": [
    "Open_test = df_test['Open']\n",
    "high_test = df_test['High'].values\n",
    "low_test = df_test['Low'].values\n",
    "volume_test = df_test['Volume'].values\n",
    "close_test = df_test['Close'].values\n",
    "# Testing data feature"
   ]
  },
  {
   "cell_type": "code",
   "execution_count": 13,
   "metadata": {},
   "outputs": [
    {
     "data": {
      "text/plain": [
       "(558,)"
      ]
     },
     "execution_count": 13,
     "metadata": {},
     "output_type": "execute_result"
    }
   ],
   "source": [
    "test_label = Open_test.copy()\n",
    "\n",
    "for i in range(l-1, len(Open_test) - l):\n",
    "    if(close_test[i + l] > Open_test[i]):\n",
    "        test_label[i] = 1\n",
    "    else: test_label[i] = -1\n",
    "test_label = test_label[l-1:-(s-l)]\n",
    "test_label.shape"
   ]
  },
  {
   "cell_type": "code",
   "execution_count": 14,
   "metadata": {},
   "outputs": [
    {
     "data": {
      "text/plain": [
       "pandas.core.series.Series"
      ]
     },
     "execution_count": 14,
     "metadata": {},
     "output_type": "execute_result"
    }
   ],
   "source": [
    "type(test_label)"
   ]
  },
  {
   "cell_type": "code",
   "execution_count": 15,
   "metadata": {
    "collapsed": true
   },
   "outputs": [],
   "source": [
    "\n",
    "high_test10 = high_test.copy()\n",
    "low_test10 = low_test.copy()\n",
    "Open_test10 = Open_test.copy()\n",
    "volume_test10 = volume_test.copy()\n",
    "\n",
    "r = len(high_test)\n",
    "\n",
    "for i in range(s, r +1):\n",
    "    high_test10[i - s] = np.mean(high_test[i-s:i]) \n",
    "    low_test10[i - s] = np.mean(low_test[i-s:i]) \n",
    "    Open_test10[i - s] = np.mean(Open_test[i-s:i])\n",
    "    volume_test10[i - s] = np.mean(volume_test[i-s:i])\n",
    "    \n",
    "\n",
    "\n",
    "Open_test10 = Open_test10[:r-s+1]\n",
    "low_test10 = low_test10[:r-s+1]\n",
    "high_test10 = high_test10[:r-s+1]\n",
    "volume_test10 = volume_test10[:r-s+1]\n",
    "\n"
   ]
  },
  {
   "cell_type": "code",
   "execution_count": 16,
   "metadata": {},
   "outputs": [
    {
     "data": {
      "text/plain": [
       "(757,)"
      ]
     },
     "execution_count": 16,
     "metadata": {},
     "output_type": "execute_result"
    }
   ],
   "source": [
    "vol1 = volume_test.copy()\n",
    "vol1.shape"
   ]
  },
  {
   "cell_type": "code",
   "execution_count": 17,
   "metadata": {
    "collapsed": true
   },
   "outputs": [],
   "source": [
    "for i in range(1, len(vol1)):\n",
    "    vol1[i] = ((volume_test[i] - volume_test[i-1])/volume_test[i-1])*100\n",
    "vol1 = vol1[s-1:]"
   ]
  },
  {
   "cell_type": "code",
   "execution_count": 18,
   "metadata": {},
   "outputs": [
    {
     "name": "stdout",
     "output_type": "stream",
     "text": [
      "(558,) (558,) (558,) (558,) (558,)\n"
     ]
    }
   ],
   "source": [
    "print(Open_test10.shape,high_test10.shape, low_test10.shape, (volume_test10/10000).shape, vol1.shape)"
   ]
  },
  {
   "cell_type": "code",
   "execution_count": 19,
   "metadata": {
    "collapsed": true
   },
   "outputs": [],
   "source": [
    "#train_feature = np.column_stack([Open,high,low,volume,close_vol])   \n",
    "train_feature = np.column_stack([Open10,high10,low10, volume10/10000, vol])   \n",
    "\n",
    "\n",
    "#Training feature\n",
    "\n",
    "test_feature = np.column_stack([Open_test10,high_test10,low_test10,volume_test10/10000, vol1])\n",
    "\n",
    "#Testing feature"
   ]
  },
  {
   "cell_type": "code",
   "execution_count": 26,
   "metadata": {},
   "outputs": [
    {
     "data": {
      "text/plain": [
       "(558,)"
      ]
     },
     "execution_count": 26,
     "metadata": {},
     "output_type": "execute_result"
    }
   ],
   "source": [
    "test_label.shape"
   ]
  },
  {
   "cell_type": "code",
   "execution_count": 21,
   "metadata": {
    "scrolled": true
   },
   "outputs": [
    {
     "data": {
      "text/plain": [
       "(558, 5)"
      ]
     },
     "execution_count": 21,
     "metadata": {},
     "output_type": "execute_result"
    }
   ],
   "source": [
    "test_feature.shape"
   ]
  },
  {
   "cell_type": "code",
   "execution_count": 22,
   "metadata": {},
   "outputs": [
    {
     "data": {
      "text/plain": [
       "SVC(C=1.0, cache_size=200, class_weight=None, coef0=0.0,\n",
       "  decision_function_shape=None, degree=3, gamma='auto', kernel='rbf',\n",
       "  max_iter=-1, probability=False, random_state=None, shrinking=True,\n",
       "  tol=0.001, verbose=False)"
      ]
     },
     "execution_count": 22,
     "metadata": {},
     "output_type": "execute_result"
    }
   ],
   "source": [
    "import sklearn\n",
    "from sklearn import svm\n",
    "clf = svm.SVC()\n",
    "clf.fit(train_feature, train_label.astype('int'))"
   ]
  },
  {
   "cell_type": "code",
   "execution_count": 23,
   "metadata": {},
   "outputs": [
    {
     "name": "stdout",
     "output_type": "stream",
     "text": [
      "1\n",
      "2\n"
     ]
    }
   ],
   "source": [
    "for i in range(1,3):\n",
    "    print(i)"
   ]
  },
  {
   "cell_type": "code",
   "execution_count": 24,
   "metadata": {
    "scrolled": true
   },
   "outputs": [
    {
     "data": {
      "text/plain": [
       "0.510752688172043"
      ]
     },
     "execution_count": 24,
     "metadata": {},
     "output_type": "execute_result"
    }
   ],
   "source": [
    "clf.score(test_feature.astype('int'), test_label.astype('int'))"
   ]
  }
 ],
 "metadata": {
  "kernelspec": {
   "display_name": "Python 3",
   "language": "python",
   "name": "python3"
  },
  "language_info": {
   "codemirror_mode": {
    "name": "ipython",
    "version": 3
   },
   "file_extension": ".py",
   "mimetype": "text/x-python",
   "name": "python",
   "nbconvert_exporter": "python",
   "pygments_lexer": "ipython3",
   "version": "3.6.1"
  }
 },
 "nbformat": 4,
 "nbformat_minor": 2
}
